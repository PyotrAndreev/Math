{
  "cells": [
    {
      "cell_type": "markdown",
      "metadata": {
        "colab_type": "text",
        "id": "view-in-github"
      },
      "source": [
        "<a href=\"https://colab.research.google.com/github/PyotrAndreev/Math/blob/main/power_iteration_and_visualization.ipynb\" target=\"_parent\"><img src=\"https://colab.research.google.com/assets/colab-badge.svg\" alt=\"Open In Colab\"/></a>"
      ]
    },
    {
      "cell_type": "markdown",
      "metadata": {},
      "source": [
        "## Compute The Dominant Eigenvector & Eigenvalue"
      ]
    },
    {
      "cell_type": "code",
      "execution_count": 2,
      "metadata": {
        "id": "GqhG5Qbw0D1J"
      },
      "outputs": [],
      "source": [
        "### Use Only For Compute The Dominant Eigenvector & Eigenvalue ###\n",
        "import numpy as np\n",
        "\n",
        "def get_dominant_eigenvalue_and_eigenvector(data, num_steps):\n",
        "    \"\"\"\n",
        "    data: np.ndarray – symmetric diagonalizable real-valued matrix\n",
        "    num_steps: int – number of power method steps\n",
        "    \n",
        "    Returns:\n",
        "    eigenvalue: float – dominant eigenvalue estimation after `num_steps` steps\n",
        "    eigenvector: np.ndarray – corresponding eigenvector estimation\n",
        "    \"\"\"\n",
        "    ### YOUR CODE HERE\n",
        "    A = data  # matrix A\n",
        "    b0 = np.ones(data.shape[0])\n",
        "    b0 = b0 / np.linalg.norm(b0)  # L2\n",
        "\n",
        "    b = b0\n",
        "    for _ in range(num_steps):\n",
        "      Ab = A @ b\n",
        "      b = Ab / np.linalg.norm(Ab)  # L2\n",
        "    λ = b.T @ Ab\n",
        "\n",
        "    return float(λ), b"
      ]
    },
    {
      "cell_type": "markdown",
      "metadata": {},
      "source": [
        "## Visualise The Convergence Of Dominant Eigenvector & Eigenvalue"
      ]
    },
    {
      "cell_type": "code",
      "execution_count": 3,
      "metadata": {
        "colab": {
          "base_uri": "https://localhost:8080/"
        },
        "id": "V59Ih8DW1gI7",
        "outputId": "2850d575-cb23-4430-b7a8-a6b2c0e99ca7"
      },
      "outputs": [
        {
          "name": "stdout",
          "output_type": "stream",
          "text": [
            "Eigens: {0: {'vector': array([1., 1.]), 'value': 2.0}, 1: {'vector': array([2., 2.]), 'value': 2.0}, 2: {'vector': array([4., 4.]), 'value': 2.0}, 3: {'vector': array([8., 8.]), 'value': 2.0}, 4: {'vector': array([16., 16.]), 'value': 2.0}, 5: {'vector': array([32., 32.]), 'value': 2.0}, 6: {'vector': array([64., 64.]), 'value': 2.0}, 7: {'vector': array([128., 128.]), 'value': 2.0}, 8: {'vector': array([256., 256.]), 'value': 2.0}, 9: {'vector': array([512., 512.]), 'value': 2.0}, 10: {'vector': array([1024., 1024.]), 'value': 2.0}, 11: {'vector': array([2048., 2048.]), 'value': 2.0}, 12: {'vector': array([4096., 4096.]), 'value': 2.0}, 13: {'vector': array([8192., 8192.]), 'value': 2.0}, 14: {'vector': array([16384., 16384.]), 'value': 2.0}, 15: {'vector': array([32768., 32768.]), 'value': 2.0}, 16: {'vector': array([65536., 65536.]), 'value': 2.0}, 17: {'vector': array([131072., 131072.]), 'value': 2.0}, 18: {'vector': array([262144., 262144.]), 'value': 2.0}, 19: {'vector': array([524288., 524288.]), 'value': 2.0}} {0: {'vector': array([0.70710678, 0.70710678]), 'value': 2.0}, 1: {'vector': array([0.70710678, 0.70710678]), 'value': 2.0}, 2: {'vector': array([0.70710678, 0.70710678]), 'value': 2.0}, 3: {'vector': array([0.70710678, 0.70710678]), 'value': 2.0}, 4: {'vector': array([0.70710678, 0.70710678]), 'value': 2.0}, 5: {'vector': array([0.70710678, 0.70710678]), 'value': 2.0}, 6: {'vector': array([0.70710678, 0.70710678]), 'value': 2.0}, 7: {'vector': array([0.70710678, 0.70710678]), 'value': 2.0}, 8: {'vector': array([0.70710678, 0.70710678]), 'value': 2.0}, 9: {'vector': array([0.70710678, 0.70710678]), 'value': 2.0}, 10: {'vector': array([0.70710678, 0.70710678]), 'value': 2.0}, 11: {'vector': array([0.70710678, 0.70710678]), 'value': 2.0}, 12: {'vector': array([0.70710678, 0.70710678]), 'value': 2.0}, 13: {'vector': array([0.70710678, 0.70710678]), 'value': 2.0}, 14: {'vector': array([0.70710678, 0.70710678]), 'value': 2.0}, 15: {'vector': array([0.70710678, 0.70710678]), 'value': 2.0}, 16: {'vector': array([0.70710678, 0.70710678]), 'value': 2.0}, 17: {'vector': array([0.70710678, 0.70710678]), 'value': 2.0}, 18: {'vector': array([0.70710678, 0.70710678]), 'value': 2.0}, 19: {'vector': array([0.70710678, 0.70710678]), 'value': 2.0}}\n"
          ]
        }
      ],
      "source": [
        "def get_dominant_eigens(matrix: np.ndarray, start_vector: np.ndarray, num_steps: int) -> dict[int, dict[str, np.ndarray or float]]:\n",
        "    A = matrix  # matrix A\n",
        "    b = start_vector.astype(float)\n",
        "    assert A.shape[0] == b.shape[0], \"the matrix.shape[0] & start_vector.shape[0] must be equal\"\n",
        "\n",
        "    b_normed = b / np.linalg.norm(b)  # L2\n",
        "\n",
        "    eigens_by_steps: dict = {}\n",
        "    eigens_noemed_by_steps: dict = {}\n",
        "\n",
        "    for i in range(num_steps):\n",
        "      Ab = A @ b\n",
        "      λ = (b.T @ Ab) / (b.T @ b)\n",
        "      eigens_by_steps[i] = {'vector': b, 'value': λ}\n",
        "      b = Ab\n",
        "\n",
        "      Ab_normed = A @ b_normed\n",
        "      λ_normed = (b_normed.T @ Ab_normed) / (b_normed.T @ b_normed)\n",
        "      eigens_noemed_by_steps[i] = {'vector': b_normed, 'value': λ_normed}\n",
        "      b_normed = Ab_normed / np.linalg.norm(Ab_normed)  # L2\n",
        "\n",
        "    return eigens_by_steps, eigens_noemed_by_steps\n",
        "\n",
        "\n",
        "# Example usage\n",
        "A = np.array([[4, -2],\n",
        "              [1,  1]])\n",
        "\n",
        "eigens_by_steps, eigens_noemed_by_steps = get_dominant_eigens(A, start_vector=np.array([1, 1]), num_steps=20)\n",
        "print(\"Eigens:\", eigens_by_steps, eigens_noemed_by_steps)"
      ]
    },
    {
      "cell_type": "markdown",
      "metadata": {},
      "source": [
        "## Compute Eigenvectors & Eigenvalues By Analytic Method (?)"
      ]
    },
    {
      "cell_type": "code",
      "execution_count": 4,
      "metadata": {
        "colab": {
          "base_uri": "https://localhost:8080/"
        },
        "id": "ALpXLRyB5sgc",
        "outputId": "307df80e-9adb-4b4f-c766-ecf2c327c164"
      },
      "outputs": [
        {
          "name": "stdout",
          "output_type": "stream",
          "text": [
            "Eigens: {0: {'value': 3.0, 'vector': array([0.89442719, 0.4472136 ])}, 1: {'value': 2.0, 'vector': array([0.70710678, 0.70710678])}}\n"
          ]
        }
      ],
      "source": [
        "def get_eigens_characteristic_polynomial_method(matrix: np.ndarray) -> dict[int, dict[str, np.ndarray or float]]:\n",
        "    \"\"\"\n",
        "    Compute the eigenvalues and eigenvectors of a square matrix using the characteristic polynomial method.\n",
        "\n",
        "    Parameters:\n",
        "    -----------\n",
        "    matrix : np.ndarray\n",
        "        A square matrix for which the eigenvalues and eigenvectors are to be computed.\n",
        "\n",
        "    Returns:\n",
        "    --------\n",
        "    dict[int, dict[str, np.ndarray or float]]\n",
        "        A dictionary where the keys are integer indices and the values are dictionaries.\n",
        "        Each inner dictionary has two key-value pairs:\n",
        "        - 'value': eigenvalue (float)\n",
        "        - 'vector': corresponding eigenvector (np.ndarray)\n",
        "\n",
        "    Raises:\n",
        "    -------\n",
        "    AssertionError\n",
        "        If the input matrix is not square.\n",
        "\n",
        "    Example:\n",
        "    --------\n",
        "    >>> A = np.array([[4, -2], [1, 1]])\n",
        "    >>> eigens = get_eigens_characteristic_polynomial_method(A)\n",
        "    >>> print(eigens[0]['value'])\n",
        "    3.0\n",
        "    >>> print(eigens[0]['vector'])\n",
        "    [0.89442719 0.4472136 ]\n",
        "\n",
        "    Note:\n",
        "    -----\n",
        "    The function uses the Singular Value Decomposition (SVD) to find the null space of the matrix (A - λI),\n",
        "    which gives the eigenvector corresponding to the eigenvalue λ.\n",
        "    \"\"\"\n",
        "\n",
        "    A = matrix  # matrix A\n",
        "    # Ensure A is a square matrix\n",
        "    assert A.shape[0] == A.shape[1], \"Matrix should be square\"\n",
        "\n",
        "    # Compute eigenvalues using the characteristic polynomial\n",
        "    eigenvalues = np.linalg.eigvals(A)\n",
        "\n",
        "    eigens_analytical: dict = {}\n",
        "\n",
        "    for i, λ in enumerate(eigenvalues):\n",
        "        # Solve (A - λ*I) x = 0 for each eigenvalue\n",
        "        temp_matrix = A - λ * np.identity(A.shape[0])\n",
        "\n",
        "        # Find null space of the temp_matrix to get the eigenvector\n",
        "        eigenvector = np.linalg.svd(temp_matrix)[-1][-1]\n",
        "\n",
        "        eigens_analytical[i] = {'value': λ, 'vector': eigenvector}\n",
        "\n",
        "    return eigens_analytical\n",
        "\n",
        "\n",
        "# Example usage\n",
        "A = np.array([[4, -2],\n",
        "              [1,  1]])\n",
        "\n",
        "eigens_analytical = get_eigens_characteristic_polynomial_method(A)\n",
        "print(\"Eigens:\", eigens_analytical)\n"
      ]
    },
    {
      "cell_type": "markdown",
      "metadata": {},
      "source": [
        "## Visualize The Convergens"
      ]
    },
    {
      "cell_type": "code",
      "execution_count": 8,
      "metadata": {},
      "outputs": [],
      "source": [
        "# !pip install bokeh"
      ]
    },
    {
      "cell_type": "code",
      "execution_count": 9,
      "metadata": {
        "id": "3UJk8wzb4aHs"
      },
      "outputs": [
        {
          "data": {
            "text/html": [
              "<style>\n",
              "        .bk-notebook-logo {\n",
              "            display: block;\n",
              "            width: 20px;\n",
              "            height: 20px;\n",
              "            background-image: url(data:image/png;base64,iVBORw0KGgoAAAANSUhEUgAAABQAAAAUCAYAAACNiR0NAAAABHNCSVQICAgIfAhkiAAAAAlwSFlzAAALEgAACxIB0t1+/AAAABx0RVh0U29mdHdhcmUAQWRvYmUgRmlyZXdvcmtzIENTNui8sowAAAOkSURBVDiNjZRtaJVlGMd/1/08zzln5zjP1LWcU9N0NkN8m2CYjpgQYQXqSs0I84OLIC0hkEKoPtiH3gmKoiJDU7QpLgoLjLIQCpEsNJ1vqUOdO7ppbuec5+V+rj4ctwzd8IIbbi6u+8f1539dt3A78eXC7QizUF7gyV1fD1Yqg4JWz84yffhm0qkFqBogB9rM8tZdtwVsPUhWhGcFJngGeWrPzHm5oaMmkfEg1usvLFyc8jLRqDOMru7AyC8saQr7GG7f5fvDeH7Ej8CM66nIF+8yngt6HWaKh7k49Soy9nXurCi1o3qUbS3zWfrYeQDTB/Qj6kX6Ybhw4B+bOYoLKCC9H3Nu/leUTZ1JdRWkkn2ldcCamzrcf47KKXdAJllSlxAOkRgyHsGC/zRday5Qld9DyoM4/q/rUoy/CXh3jzOu3bHUVZeU+DEn8FInkPBFlu3+nW3Nw0mk6vCDiWg8CeJaxEwuHS3+z5RgY+YBR6V1Z1nxSOfoaPa4LASWxxdNp+VWTk7+4vzaou8v8PN+xo+KY2xsw6une2frhw05CTYOmQvsEhjhWjn0bmXPjpE1+kplmmkP3suftwTubK9Vq22qKmrBhpY4jvd5afdRA3wGjFAgcnTK2s4hY0/GPNIb0nErGMCRxWOOX64Z8RAC4oCXdklmEvcL8o0BfkNK4lUg9HTl+oPlQxdNo3Mg4Nv175e/1LDGzZen30MEjRUtmXSfiTVu1kK8W4txyV6BMKlbgk3lMwYCiusNy9fVfvvwMxv8Ynl6vxoByANLTWplvuj/nF9m2+PDtt1eiHPBr1oIfhCChQMBw6Aw0UulqTKZdfVvfG7VcfIqLG9bcldL/+pdWTLxLUy8Qq38heUIjh4XlzZxzQm19lLFlr8vdQ97rjZVOLf8nclzckbcD4wxXMidpX30sFd37Fv/GtwwhzhxGVAprjbg0gCAEeIgwCZyTV2Z1REEW8O4py0wsjeloKoMr6iCY6dP92H6Vw/oTyICIthibxjm/DfN9lVz8IqtqKYLUXfoKVMVQVVJOElGjrnnUt9T9wbgp8AyYKaGlqingHZU/uG2NTZSVqwHQTWkx9hxjkpWDaCg6Ckj5qebgBVbT3V3NNXMSiWSDdGV3hrtzla7J+duwPOToIg42ChPQOQjspnSlp1V+Gjdged7+8UN5CRAV7a5EdFNwCjEaBR27b3W890TE7g24NAP/mMDXRWrGoFPQI9ls/MWO2dWFAar/xcOIImbbpA3zgAAAABJRU5ErkJggg==);\n",
              "        }\n",
              "    </style>\n",
              "    <div>\n",
              "        <a href=\"https://bokeh.org\" target=\"_blank\" class=\"bk-notebook-logo\"></a>\n",
              "        <span id=\"b28b788b-6775-45d7-8118-a9c68a9b0f2d\">Loading BokehJS ...</span>\n",
              "    </div>\n"
            ]
          },
          "metadata": {},
          "output_type": "display_data"
        },
        {
          "data": {
            "application/javascript": "(function(root) {\n  function now() {\n    return new Date();\n  }\n\n  const force = true;\n\n  if (typeof root._bokeh_onload_callbacks === \"undefined\" || force === true) {\n    root._bokeh_onload_callbacks = [];\n    root._bokeh_is_loading = undefined;\n  }\n\nconst JS_MIME_TYPE = 'application/javascript';\n  const HTML_MIME_TYPE = 'text/html';\n  const EXEC_MIME_TYPE = 'application/vnd.bokehjs_exec.v0+json';\n  const CLASS_NAME = 'output_bokeh rendered_html';\n\n  /**\n   * Render data to the DOM node\n   */\n  function render(props, node) {\n    const script = document.createElement(\"script\");\n    node.appendChild(script);\n  }\n\n  /**\n   * Handle when an output is cleared or removed\n   */\n  function handleClearOutput(event, handle) {\n    function drop(id) {\n      const view = Bokeh.index.get_by_id(id)\n      if (view != null) {\n        view.model.document.clear()\n        Bokeh.index.delete(view)\n      }\n    }\n\n    const cell = handle.cell;\n\n    const id = cell.output_area._bokeh_element_id;\n    const server_id = cell.output_area._bokeh_server_id;\n\n    // Clean up Bokeh references\n    if (id != null) {\n      drop(id)\n    }\n\n    if (server_id !== undefined) {\n      // Clean up Bokeh references\n      const cmd_clean = \"from bokeh.io.state import curstate; print(curstate().uuid_to_server['\" + server_id + \"'].get_sessions()[0].document.roots[0]._id)\";\n      cell.notebook.kernel.execute(cmd_clean, {\n        iopub: {\n          output: function(msg) {\n            const id = msg.content.text.trim()\n            drop(id)\n          }\n        }\n      });\n      // Destroy server and session\n      const cmd_destroy = \"import bokeh.io.notebook as ion; ion.destroy_server('\" + server_id + \"')\";\n      cell.notebook.kernel.execute(cmd_destroy);\n    }\n  }\n\n  /**\n   * Handle when a new output is added\n   */\n  function handleAddOutput(event, handle) {\n    const output_area = handle.output_area;\n    const output = handle.output;\n\n    // limit handleAddOutput to display_data with EXEC_MIME_TYPE content only\n    if ((output.output_type != \"display_data\") || (!Object.prototype.hasOwnProperty.call(output.data, EXEC_MIME_TYPE))) {\n      return\n    }\n\n    const toinsert = output_area.element.find(\".\" + CLASS_NAME.split(' ')[0]);\n\n    if (output.metadata[EXEC_MIME_TYPE][\"id\"] !== undefined) {\n      toinsert[toinsert.length - 1].firstChild.textContent = output.data[JS_MIME_TYPE];\n      // store reference to embed id on output_area\n      output_area._bokeh_element_id = output.metadata[EXEC_MIME_TYPE][\"id\"];\n    }\n    if (output.metadata[EXEC_MIME_TYPE][\"server_id\"] !== undefined) {\n      const bk_div = document.createElement(\"div\");\n      bk_div.innerHTML = output.data[HTML_MIME_TYPE];\n      const script_attrs = bk_div.children[0].attributes;\n      for (let i = 0; i < script_attrs.length; i++) {\n        toinsert[toinsert.length - 1].firstChild.setAttribute(script_attrs[i].name, script_attrs[i].value);\n        toinsert[toinsert.length - 1].firstChild.textContent = bk_div.children[0].textContent\n      }\n      // store reference to server id on output_area\n      output_area._bokeh_server_id = output.metadata[EXEC_MIME_TYPE][\"server_id\"];\n    }\n  }\n\n  function register_renderer(events, OutputArea) {\n\n    function append_mime(data, metadata, element) {\n      // create a DOM node to render to\n      const toinsert = this.create_output_subarea(\n        metadata,\n        CLASS_NAME,\n        EXEC_MIME_TYPE\n      );\n      this.keyboard_manager.register_events(toinsert);\n      // Render to node\n      const props = {data: data, metadata: metadata[EXEC_MIME_TYPE]};\n      render(props, toinsert[toinsert.length - 1]);\n      element.append(toinsert);\n      return toinsert\n    }\n\n    /* Handle when an output is cleared or removed */\n    events.on('clear_output.CodeCell', handleClearOutput);\n    events.on('delete.Cell', handleClearOutput);\n\n    /* Handle when a new output is added */\n    events.on('output_added.OutputArea', handleAddOutput);\n\n    /**\n     * Register the mime type and append_mime function with output_area\n     */\n    OutputArea.prototype.register_mime_type(EXEC_MIME_TYPE, append_mime, {\n      /* Is output safe? */\n      safe: true,\n      /* Index of renderer in `output_area.display_order` */\n      index: 0\n    });\n  }\n\n  // register the mime type if in Jupyter Notebook environment and previously unregistered\n  if (root.Jupyter !== undefined) {\n    const events = require('base/js/events');\n    const OutputArea = require('notebook/js/outputarea').OutputArea;\n\n    if (OutputArea.prototype.mime_types().indexOf(EXEC_MIME_TYPE) == -1) {\n      register_renderer(events, OutputArea);\n    }\n  }\n  if (typeof (root._bokeh_timeout) === \"undefined\" || force === true) {\n    root._bokeh_timeout = Date.now() + 5000;\n    root._bokeh_failed_load = false;\n  }\n\n  const NB_LOAD_WARNING = {'data': {'text/html':\n     \"<div style='background-color: #fdd'>\\n\"+\n     \"<p>\\n\"+\n     \"BokehJS does not appear to have successfully loaded. If loading BokehJS from CDN, this \\n\"+\n     \"may be due to a slow or bad network connection. Possible fixes:\\n\"+\n     \"</p>\\n\"+\n     \"<ul>\\n\"+\n     \"<li>re-rerun `output_notebook()` to attempt to load from CDN again, or</li>\\n\"+\n     \"<li>use INLINE resources instead, as so:</li>\\n\"+\n     \"</ul>\\n\"+\n     \"<code>\\n\"+\n     \"from bokeh.resources import INLINE\\n\"+\n     \"output_notebook(resources=INLINE)\\n\"+\n     \"</code>\\n\"+\n     \"</div>\"}};\n\n  function display_loaded() {\n    const el = document.getElementById(\"b28b788b-6775-45d7-8118-a9c68a9b0f2d\");\n    if (el != null) {\n      el.textContent = \"BokehJS is loading...\";\n    }\n    if (root.Bokeh !== undefined) {\n      if (el != null) {\n        el.textContent = \"BokehJS \" + root.Bokeh.version + \" successfully loaded.\";\n      }\n    } else if (Date.now() < root._bokeh_timeout) {\n      setTimeout(display_loaded, 100)\n    }\n  }\n\n  function run_callbacks() {\n    try {\n      root._bokeh_onload_callbacks.forEach(function(callback) {\n        if (callback != null)\n          callback();\n      });\n    } finally {\n      delete root._bokeh_onload_callbacks\n    }\n    console.debug(\"Bokeh: all callbacks have finished\");\n  }\n\n  function load_libs(css_urls, js_urls, callback) {\n    if (css_urls == null) css_urls = [];\n    if (js_urls == null) js_urls = [];\n\n    root._bokeh_onload_callbacks.push(callback);\n    if (root._bokeh_is_loading > 0) {\n      console.debug(\"Bokeh: BokehJS is being loaded, scheduling callback at\", now());\n      return null;\n    }\n    if (js_urls == null || js_urls.length === 0) {\n      run_callbacks();\n      return null;\n    }\n    console.debug(\"Bokeh: BokehJS not loaded, scheduling load and callback at\", now());\n    root._bokeh_is_loading = css_urls.length + js_urls.length;\n\n    function on_load() {\n      root._bokeh_is_loading--;\n      if (root._bokeh_is_loading === 0) {\n        console.debug(\"Bokeh: all BokehJS libraries/stylesheets loaded\");\n        run_callbacks()\n      }\n    }\n\n    function on_error(url) {\n      console.error(\"failed to load \" + url);\n    }\n\n    for (let i = 0; i < css_urls.length; i++) {\n      const url = css_urls[i];\n      const element = document.createElement(\"link\");\n      element.onload = on_load;\n      element.onerror = on_error.bind(null, url);\n      element.rel = \"stylesheet\";\n      element.type = \"text/css\";\n      element.href = url;\n      console.debug(\"Bokeh: injecting link tag for BokehJS stylesheet: \", url);\n      document.body.appendChild(element);\n    }\n\n    for (let i = 0; i < js_urls.length; i++) {\n      const url = js_urls[i];\n      const element = document.createElement('script');\n      element.onload = on_load;\n      element.onerror = on_error.bind(null, url);\n      element.async = false;\n      element.src = url;\n      console.debug(\"Bokeh: injecting script tag for BokehJS library: \", url);\n      document.head.appendChild(element);\n    }\n  };\n\n  function inject_raw_css(css) {\n    const element = document.createElement(\"style\");\n    element.appendChild(document.createTextNode(css));\n    document.body.appendChild(element);\n  }\n\n  const js_urls = [\"https://cdn.bokeh.org/bokeh/release/bokeh-3.3.0.min.js\", \"https://cdn.bokeh.org/bokeh/release/bokeh-gl-3.3.0.min.js\", \"https://cdn.bokeh.org/bokeh/release/bokeh-widgets-3.3.0.min.js\", \"https://cdn.bokeh.org/bokeh/release/bokeh-tables-3.3.0.min.js\", \"https://cdn.bokeh.org/bokeh/release/bokeh-mathjax-3.3.0.min.js\"];\n  const css_urls = [];\n\n  const inline_js = [    function(Bokeh) {\n      Bokeh.set_log_level(\"info\");\n    },\nfunction(Bokeh) {\n    }\n  ];\n\n  function run_inline_js() {\n    if (root.Bokeh !== undefined || force === true) {\n          for (let i = 0; i < inline_js.length; i++) {\n      inline_js[i].call(root, root.Bokeh);\n    }\nif (force === true) {\n        display_loaded();\n      }} else if (Date.now() < root._bokeh_timeout) {\n      setTimeout(run_inline_js, 100);\n    } else if (!root._bokeh_failed_load) {\n      console.log(\"Bokeh: BokehJS failed to load within specified timeout.\");\n      root._bokeh_failed_load = true;\n    } else if (force !== true) {\n      const cell = $(document.getElementById(\"b28b788b-6775-45d7-8118-a9c68a9b0f2d\")).parents('.cell').data().cell;\n      cell.output_area.append_execute_result(NB_LOAD_WARNING)\n    }\n  }\n\n  if (root._bokeh_is_loading === 0) {\n    console.debug(\"Bokeh: BokehJS loaded, going straight to plotting\");\n    run_inline_js();\n  } else {\n    load_libs(css_urls, js_urls, function() {\n      console.debug(\"Bokeh: BokehJS plotting callback run at\", now());\n      run_inline_js();\n    });\n  }\n}(window));",
            "application/vnd.bokehjs_load.v0+json": ""
          },
          "metadata": {},
          "output_type": "display_data"
        }
      ],
      "source": [
        "from bokeh.layouts import column, row\n",
        "from bokeh.models import Slider, ColumnDataSource, CustomJS, HoverTool, Div\n",
        "from bokeh.plotting import figure, show\n",
        "\n",
        "from bokeh.io import curdoc  # theme color\n",
        "from bokeh.io import output_notebook # activate Bokeh output in Jupyter notebook\n",
        "\n",
        "output_notebook()"
      ]
    },
    {
      "cell_type": "code",
      "execution_count": 10,
      "metadata": {
        "id": "KrohRBSUtTcD"
      },
      "outputs": [],
      "source": [
        "curdoc().theme = \"dark_minimal\"\n",
        "# curdoc().theme = None\n",
        "\n",
        "\n",
        "def visualize_power_method(matrix: np.array, start_vector: np.array, num_steps: int) -> None:\n",
        "  header_div = Div(\n",
        "      text=\"\"\"\n",
        "  <h1>Power Iterati/Method Visualization</h1>\n",
        "  <p>More Theory: <a href=\"https://t.me/+g6swicRrEVEyNTAy\" target=\"_blank\"> Petr | ML notes </a></p> target=\"_blank\">\n",
        "  \"\"\",\n",
        "      sizing_mode=\"stretch_width\",\n",
        "  )\n",
        "  show(header_div)\n",
        "\n",
        "  A = matrix\n",
        "  eigens_by_steps, eigens_normed_by_steps = get_dominant_eigens(matrix, start_vector, num_steps)\n",
        "  eigens_analytical = get_eigens_characteristic_polynomial_method(matrix)\n",
        "\n",
        "  v1 = [list(iter['vector']) for iter in eigens_by_steps.values()]  # dominant_eigenvector_approach\n",
        "  v2 = [list(iter['vector']) for iter in eigens_normed_by_steps.values()]  # normed_dominant_eigenvector_approach\n",
        "\n",
        "  v1_true = eigens_analytical[0]['vector']\n",
        "  v2_true = eigens_analytical[1]['vector']\n",
        "\n",
        "  # Compute λ residual\n",
        "  λ_max = max(iter['value'] for iter in eigens_analytical.values())\n",
        "  error_1 = abs(np.array([iter['value'] for iter in eigens_by_steps.values()]) - λ_max)\n",
        "  error_2 = abs(np.array([iter['value'] for iter in eigens_normed_by_steps.values()]) - λ_max)\n",
        "\n",
        "  # Create data sources for the plots\n",
        "  source1 = ColumnDataSource(data=dict(x=[0, v1[0][0]], y=[0, v1[0][1]]))\n",
        "  source2 = ColumnDataSource(data=dict(x=[0, v2[0][0]], y=[0, v2[0][1]]))\n",
        "  source_diff1 = ColumnDataSource(data=dict(x=list(range(1)), y=error_1[:1]))\n",
        "  source_diff2 = ColumnDataSource(data=dict(x=list(range(1)), y=error_2[:1]))\n",
        "\n",
        "  # Create the vector visualization plot\n",
        "  p1 = figure(width=700, height=300, title='Vector Comparison By Iteration',\n",
        "              x_axis_label='x', y_axis_label='y',\n",
        "              x_range=(-2, 2), y_range=(-2, 2))\n",
        "\n",
        "  p1.line([0, v1_true[0]], [0, v1_true[1]], line_width=2, line_color=\"green\",\n",
        "          legend_label=\"eigenvector v1\", line_dash=\"dotted\")\n",
        "\n",
        "  p1.line([0, v2_true[0]], [0, v2_true[1]], line_width=2, line_color=\"green\",\n",
        "          legend_label=\"eigenvector v2\", line_dash=\"dotted\")\n",
        "\n",
        "  p1.line('x', 'y', source=source1, line_width=2, line_color=\"blue\", alpha=0.5,\n",
        "          legend_label=\"aproach v1\")\n",
        "\n",
        "  p1.line('x', 'y', source=source2, line_width=2, line_color=\"red\", alpha=0.5,\n",
        "          legend_label=\"normed aproach v2\")\n",
        "\n",
        "  # Create a plot for λ residual\n",
        "  p2 = figure(width=700, height=300, title='Eigenvalue Error',\n",
        "              x_axis_label='iteration', y_axis_label='∆λ',\n",
        "              x_range=(0, len(v1)), y_range=(min(error_2)-1, max(error_2)+1))\n",
        "\n",
        "  p2.line('x', 'y', source=source_diff1, line_width=3, line_color=\"blue\",\n",
        "          alpha=0.8, legend_label=\"∆λ\")\n",
        "\n",
        "  p2.line('x', 'y', source=source_diff2, line_width=2, line_color=\"red\",\n",
        "          alpha=1, legend_label=\"∆λ normed\")\n",
        "\n",
        "  # JavaScript callback\n",
        "  callback = CustomJS(args=dict(source1=source1, source2=source2, source_diff1=source_diff1, source_diff2=source_diff2, vectors1=v1, vectors2=v2, differences1=error_1, differences2=error_2), code=\"\"\"\n",
        "      const data1 = source1.data;\n",
        "      const data2 = source2.data;\n",
        "      const data_diff1 = source_diff1.data;\n",
        "      const data_diff2 = source_diff2.data;\n",
        "      const selected_vector1 = vectors1[cb_obj.value];\n",
        "      const selected_vector2 = vectors2[cb_obj.value];\n",
        "      data1['x'][1] = selected_vector1[0];\n",
        "      data1['y'][1] = selected_vector1[1];\n",
        "      data2['x'][1] = selected_vector2[0];\n",
        "      data2['y'][1] = selected_vector2[1];\n",
        "      data_diff1['x'] = Array.from({length: cb_obj.value+1}, (_, i) => i);\n",
        "      data_diff1['y'] = differences1.slice(0, cb_obj.value+1);\n",
        "      data_diff2['x'] = Array.from({length: cb_obj.value+1}, (_, i) => i);\n",
        "      data_diff2['y'] = differences2.slice(0, cb_obj.value+1);\n",
        "      source1.change.emit();\n",
        "      source2.change.emit();\n",
        "      source_diff1.change.emit();\n",
        "      source_diff2.change.emit();\n",
        "  \"\"\")\n",
        "\n",
        "  # Add a slider\n",
        "  slider = Slider(start=0, end=len(v1)-1, value=0, step=1, title=\"Iteration\")\n",
        "  slider.js_on_change('value', callback)\n",
        "\n",
        "  layout = column(slider, column(p1, p2))\n",
        "  show(layout)"
      ]
    },
    {
      "cell_type": "markdown",
      "metadata": {},
      "source": [
        "1. The results it is not right in every cases. I still have not found the mistakes. I let it for the future.\n",
        "2. It may be better if the program is run in Colab."
      ]
    },
    {
      "cell_type": "code",
      "execution_count": 12,
      "metadata": {
        "colab": {
          "base_uri": "https://localhost:8080/",
          "height": 859
        },
        "id": "R9OeeQb9PlAy",
        "outputId": "bb634222-2060-4847-b64a-3b633783a237"
      },
      "outputs": [
        {
          "data": {
            "text/html": [
              "\n",
              "  <div id=\"be1236fd-4dcb-4402-87f1-55b61d24b7ca\" data-root-id=\"p1146\" style=\"display: contents;\"></div>\n"
            ]
          },
          "metadata": {},
          "output_type": "display_data"
        },
        {
          "data": {
            "application/javascript": "(function(root) {\n  function embed_document(root) {\n  const docs_json = {\"3baafcf9-2730-4055-91b0-42653365edf0\":{\"version\":\"3.3.0\",\"title\":\"Bokeh Application\",\"roots\":[{\"type\":\"object\",\"name\":\"Div\",\"id\":\"p1146\",\"attributes\":{\"sizing_mode\":\"stretch_width\",\"text\":\"\\n  <h1>Power Iterati/Method Visualization</h1>\\n  <p>More Theory: <a href=\\\"https://t.me/+g6swicRrEVEyNTAy\\\" target=\\\"_blank\\\"> Petr | ML notes </a></p> target=\\\"_blank\\\">\\n  \"}}]}};\n  const render_items = [{\"docid\":\"3baafcf9-2730-4055-91b0-42653365edf0\",\"roots\":{\"p1146\":\"be1236fd-4dcb-4402-87f1-55b61d24b7ca\"},\"root_ids\":[\"p1146\"]}];\n  root.Bokeh.embed.embed_items_notebook(docs_json, render_items);\n  }\n  if (root.Bokeh !== undefined) {\n    embed_document(root);\n  } else {\n    let attempts = 0;\n    const timer = setInterval(function(root) {\n      if (root.Bokeh !== undefined) {\n        clearInterval(timer);\n        embed_document(root);\n      } else {\n        attempts++;\n        if (attempts > 100) {\n          clearInterval(timer);\n          console.log(\"Bokeh: ERROR: Unable to run BokehJS code because BokehJS library is missing\");\n        }\n      }\n    }, 10, root)\n  }\n})(window);",
            "application/vnd.bokehjs_exec.v0+json": ""
          },
          "metadata": {
            "application/vnd.bokehjs_exec.v0+json": {
              "id": "p1146"
            }
          },
          "output_type": "display_data"
        },
        {
          "name": "stderr",
          "output_type": "stream",
          "text": [
            "/tmp/ipykernel_129028/3835903271.py:20: RuntimeWarning: invalid value encountered in divide\n",
            "  b_normed = Ab_normed / np.linalg.norm(Ab_normed)  # L2\n",
            "/tmp/ipykernel_129028/3835903271.py:13: RuntimeWarning: invalid value encountered in scalar divide\n",
            "  λ = (b.T @ Ab) / (b.T @ b)\n"
          ]
        },
        {
          "data": {
            "text/html": [
              "\n",
              "  <div id=\"eb6af5fc-b446-4aa3-a319-15d82c3aaca8\" data-root-id=\"p1286\" style=\"display: contents;\"></div>\n"
            ]
          },
          "metadata": {},
          "output_type": "display_data"
        },
        {
          "data": {
            "application/javascript": "(function(root) {\n  function embed_document(root) {\n  const docs_json = {\"6e4e6dd2-64ec-41aa-b7b6-50581946bd92\":{\"version\":\"3.3.0\",\"title\":\"Bokeh Application\",\"roots\":[{\"type\":\"object\",\"name\":\"Column\",\"id\":\"p1286\",\"attributes\":{\"children\":[{\"type\":\"object\",\"name\":\"Slider\",\"id\":\"p1284\",\"attributes\":{\"js_property_callbacks\":{\"type\":\"map\",\"entries\":[[\"change:value\",[{\"type\":\"object\",\"name\":\"CustomJS\",\"id\":\"p1283\",\"attributes\":{\"args\":{\"type\":\"map\",\"entries\":[[\"source1\",{\"type\":\"object\",\"name\":\"ColumnDataSource\",\"id\":\"p1147\",\"attributes\":{\"selected\":{\"type\":\"object\",\"name\":\"Selection\",\"id\":\"p1148\",\"attributes\":{\"indices\":[],\"line_indices\":[]}},\"selection_policy\":{\"type\":\"object\",\"name\":\"UnionRenderers\",\"id\":\"p1149\"},\"data\":{\"type\":\"map\",\"entries\":[[\"x\",[0,-10.0]],[\"y\",[0,-100.0]]]}}}],[\"source2\",{\"type\":\"object\",\"name\":\"ColumnDataSource\",\"id\":\"p1150\",\"attributes\":{\"selected\":{\"type\":\"object\",\"name\":\"Selection\",\"id\":\"p1151\",\"attributes\":{\"indices\":[],\"line_indices\":[]}},\"selection_policy\":{\"type\":\"object\",\"name\":\"UnionRenderers\",\"id\":\"p1152\"},\"data\":{\"type\":\"map\",\"entries\":[[\"x\",[0,-0.09950371902099892]],[\"y\",[0,-0.9950371902099892]]]}}}],[\"source_diff1\",{\"type\":\"object\",\"name\":\"ColumnDataSource\",\"id\":\"p1153\",\"attributes\":{\"selected\":{\"type\":\"object\",\"name\":\"Selection\",\"id\":\"p1154\",\"attributes\":{\"indices\":[],\"line_indices\":[]}},\"selection_policy\":{\"type\":\"object\",\"name\":\"UnionRenderers\",\"id\":\"p1155\"},\"data\":{\"type\":\"map\",\"entries\":[[\"x\",[0]],[\"y\",{\"type\":\"ndarray\",\"array\":{\"type\":\"bytes\",\"data\":\"AAAAAAAAAAA=\"},\"shape\":[1],\"dtype\":\"float64\",\"order\":\"little\"}]]}}}],[\"source_diff2\",{\"type\":\"object\",\"name\":\"ColumnDataSource\",\"id\":\"p1156\",\"attributes\":{\"selected\":{\"type\":\"object\",\"name\":\"Selection\",\"id\":\"p1157\",\"attributes\":{\"indices\":[],\"line_indices\":[]}},\"selection_policy\":{\"type\":\"object\",\"name\":\"UnionRenderers\",\"id\":\"p1158\"},\"data\":{\"type\":\"map\",\"entries\":[[\"x\",[0]],[\"y\",{\"type\":\"ndarray\",\"array\":{\"type\":\"bytes\",\"data\":\"AAAAAAAAAAA=\"},\"shape\":[1],\"dtype\":\"float64\",\"order\":\"little\"}]]}}}],[\"vectors1\",[[-10.0,-100.0],[0.0,0.0],[0.0,0.0],[0.0,0.0],[0.0,0.0],[0.0,0.0],[0.0,0.0],[0.0,0.0],[0.0,0.0],[0.0,0.0],[0.0,0.0],[0.0,0.0],[0.0,0.0],[0.0,0.0],[0.0,0.0]]],[\"vectors2\",[[-0.09950371902099892,-0.9950371902099892],[{\"type\":\"number\",\"value\":\"nan\"},{\"type\":\"number\",\"value\":\"nan\"}],[{\"type\":\"number\",\"value\":\"nan\"},{\"type\":\"number\",\"value\":\"nan\"}],[{\"type\":\"number\",\"value\":\"nan\"},{\"type\":\"number\",\"value\":\"nan\"}],[{\"type\":\"number\",\"value\":\"nan\"},{\"type\":\"number\",\"value\":\"nan\"}],[{\"type\":\"number\",\"value\":\"nan\"},{\"type\":\"number\",\"value\":\"nan\"}],[{\"type\":\"number\",\"value\":\"nan\"},{\"type\":\"number\",\"value\":\"nan\"}],[{\"type\":\"number\",\"value\":\"nan\"},{\"type\":\"number\",\"value\":\"nan\"}],[{\"type\":\"number\",\"value\":\"nan\"},{\"type\":\"number\",\"value\":\"nan\"}],[{\"type\":\"number\",\"value\":\"nan\"},{\"type\":\"number\",\"value\":\"nan\"}],[{\"type\":\"number\",\"value\":\"nan\"},{\"type\":\"number\",\"value\":\"nan\"}],[{\"type\":\"number\",\"value\":\"nan\"},{\"type\":\"number\",\"value\":\"nan\"}],[{\"type\":\"number\",\"value\":\"nan\"},{\"type\":\"number\",\"value\":\"nan\"}],[{\"type\":\"number\",\"value\":\"nan\"},{\"type\":\"number\",\"value\":\"nan\"}],[{\"type\":\"number\",\"value\":\"nan\"},{\"type\":\"number\",\"value\":\"nan\"}]]],[\"differences1\",{\"type\":\"ndarray\",\"array\":{\"type\":\"bytes\",\"data\":\"AAAAAAAAAAAAAAAAAAD4fwAAAAAAAPh/AAAAAAAA+H8AAAAAAAD4fwAAAAAAAPh/AAAAAAAA+H8AAAAAAAD4fwAAAAAAAPh/AAAAAAAA+H8AAAAAAAD4fwAAAAAAAPh/AAAAAAAA+H8AAAAAAAD4fwAAAAAAAPh/\"},\"shape\":[15],\"dtype\":\"float64\",\"order\":\"little\"}],[\"differences2\",{\"type\":\"ndarray\",\"array\":{\"type\":\"bytes\",\"data\":\"AAAAAAAAAAAAAAAAAAD4fwAAAAAAAPh/AAAAAAAA+H8AAAAAAAD4fwAAAAAAAPh/AAAAAAAA+H8AAAAAAAD4fwAAAAAAAPh/AAAAAAAA+H8AAAAAAAD4fwAAAAAAAPh/AAAAAAAA+H8AAAAAAAD4fwAAAAAAAPh/\"},\"shape\":[15],\"dtype\":\"float64\",\"order\":\"little\"}]]},\"code\":\"\\n      const data1 = source1.data;\\n      const data2 = source2.data;\\n      const data_diff1 = source_diff1.data;\\n      const data_diff2 = source_diff2.data;\\n      const selected_vector1 = vectors1[cb_obj.value];\\n      const selected_vector2 = vectors2[cb_obj.value];\\n      data1['x'][1] = selected_vector1[0];\\n      data1['y'][1] = selected_vector1[1];\\n      data2['x'][1] = selected_vector2[0];\\n      data2['y'][1] = selected_vector2[1];\\n      data_diff1['x'] = Array.from({length: cb_obj.value+1}, (_, i) => i);\\n      data_diff1['y'] = differences1.slice(0, cb_obj.value+1);\\n      data_diff2['x'] = Array.from({length: cb_obj.value+1}, (_, i) => i);\\n      data_diff2['y'] = differences2.slice(0, cb_obj.value+1);\\n      source1.change.emit();\\n      source2.change.emit();\\n      source_diff1.change.emit();\\n      source_diff2.change.emit();\\n  \"}}]]]},\"title\":\"Iteration\",\"start\":0,\"end\":14,\"value\":0}},{\"type\":\"object\",\"name\":\"Column\",\"id\":\"p1285\",\"attributes\":{\"children\":[{\"type\":\"object\",\"name\":\"Figure\",\"id\":\"p1159\",\"attributes\":{\"width\":700,\"height\":300,\"x_range\":{\"type\":\"object\",\"name\":\"Range1d\",\"id\":\"p1169\",\"attributes\":{\"start\":-2,\"end\":2}},\"y_range\":{\"type\":\"object\",\"name\":\"Range1d\",\"id\":\"p1170\",\"attributes\":{\"start\":-2,\"end\":2}},\"x_scale\":{\"type\":\"object\",\"name\":\"LinearScale\",\"id\":\"p1171\"},\"y_scale\":{\"type\":\"object\",\"name\":\"LinearScale\",\"id\":\"p1172\"},\"title\":{\"type\":\"object\",\"name\":\"Title\",\"id\":\"p1162\",\"attributes\":{\"text\":\"Vector Comparison By Iteration\",\"text_color\":\"#E0E0E0\",\"text_font\":\"Helvetica\",\"text_font_size\":\"1.15em\"}},\"outline_line_color\":\"#E0E0E0\",\"outline_line_alpha\":0.25,\"renderers\":[{\"type\":\"object\",\"name\":\"GlyphRenderer\",\"id\":\"p1196\",\"attributes\":{\"data_source\":{\"type\":\"object\",\"name\":\"ColumnDataSource\",\"id\":\"p1190\",\"attributes\":{\"selected\":{\"type\":\"object\",\"name\":\"Selection\",\"id\":\"p1191\",\"attributes\":{\"indices\":[],\"line_indices\":[]}},\"selection_policy\":{\"type\":\"object\",\"name\":\"UnionRenderers\",\"id\":\"p1192\"},\"data\":{\"type\":\"map\",\"entries\":[[\"x\",[0,0.0]],[\"y\",[0,1.0]]]}}},\"view\":{\"type\":\"object\",\"name\":\"CDSView\",\"id\":\"p1197\",\"attributes\":{\"filter\":{\"type\":\"object\",\"name\":\"AllIndices\",\"id\":\"p1198\"}}},\"glyph\":{\"type\":\"object\",\"name\":\"Line\",\"id\":\"p1193\",\"attributes\":{\"x\":{\"type\":\"field\",\"field\":\"x\"},\"y\":{\"type\":\"field\",\"field\":\"y\"},\"line_color\":\"green\",\"line_width\":2,\"line_dash\":[2,4]}},\"nonselection_glyph\":{\"type\":\"object\",\"name\":\"Line\",\"id\":\"p1194\",\"attributes\":{\"x\":{\"type\":\"field\",\"field\":\"x\"},\"y\":{\"type\":\"field\",\"field\":\"y\"},\"line_color\":\"green\",\"line_alpha\":0.1,\"line_width\":2,\"line_dash\":[2,4]}},\"muted_glyph\":{\"type\":\"object\",\"name\":\"Line\",\"id\":\"p1195\",\"attributes\":{\"x\":{\"type\":\"field\",\"field\":\"x\"},\"y\":{\"type\":\"field\",\"field\":\"y\"},\"line_color\":\"green\",\"line_alpha\":0.2,\"line_width\":2,\"line_dash\":[2,4]}}}},{\"type\":\"object\",\"name\":\"GlyphRenderer\",\"id\":\"p1207\",\"attributes\":{\"data_source\":{\"type\":\"object\",\"name\":\"ColumnDataSource\",\"id\":\"p1201\",\"attributes\":{\"selected\":{\"type\":\"object\",\"name\":\"Selection\",\"id\":\"p1202\",\"attributes\":{\"indices\":[],\"line_indices\":[]}},\"selection_policy\":{\"type\":\"object\",\"name\":\"UnionRenderers\",\"id\":\"p1203\"},\"data\":{\"type\":\"map\",\"entries\":[[\"x\",[0,0.0]],[\"y\",[0,1.0]]]}}},\"view\":{\"type\":\"object\",\"name\":\"CDSView\",\"id\":\"p1208\",\"attributes\":{\"filter\":{\"type\":\"object\",\"name\":\"AllIndices\",\"id\":\"p1209\"}}},\"glyph\":{\"type\":\"object\",\"name\":\"Line\",\"id\":\"p1204\",\"attributes\":{\"x\":{\"type\":\"field\",\"field\":\"x\"},\"y\":{\"type\":\"field\",\"field\":\"y\"},\"line_color\":\"green\",\"line_width\":2,\"line_dash\":[2,4]}},\"nonselection_glyph\":{\"type\":\"object\",\"name\":\"Line\",\"id\":\"p1205\",\"attributes\":{\"x\":{\"type\":\"field\",\"field\":\"x\"},\"y\":{\"type\":\"field\",\"field\":\"y\"},\"line_color\":\"green\",\"line_alpha\":0.1,\"line_width\":2,\"line_dash\":[2,4]}},\"muted_glyph\":{\"type\":\"object\",\"name\":\"Line\",\"id\":\"p1206\",\"attributes\":{\"x\":{\"type\":\"field\",\"field\":\"x\"},\"y\":{\"type\":\"field\",\"field\":\"y\"},\"line_color\":\"green\",\"line_alpha\":0.2,\"line_width\":2,\"line_dash\":[2,4]}}}},{\"type\":\"object\",\"name\":\"GlyphRenderer\",\"id\":\"p1217\",\"attributes\":{\"data_source\":{\"id\":\"p1147\"},\"view\":{\"type\":\"object\",\"name\":\"CDSView\",\"id\":\"p1218\",\"attributes\":{\"filter\":{\"type\":\"object\",\"name\":\"AllIndices\",\"id\":\"p1219\"}}},\"glyph\":{\"type\":\"object\",\"name\":\"Line\",\"id\":\"p1214\",\"attributes\":{\"x\":{\"type\":\"field\",\"field\":\"x\"},\"y\":{\"type\":\"field\",\"field\":\"y\"},\"line_color\":\"blue\",\"line_alpha\":0.5,\"line_width\":2}},\"nonselection_glyph\":{\"type\":\"object\",\"name\":\"Line\",\"id\":\"p1215\",\"attributes\":{\"x\":{\"type\":\"field\",\"field\":\"x\"},\"y\":{\"type\":\"field\",\"field\":\"y\"},\"line_color\":\"blue\",\"line_alpha\":0.1,\"line_width\":2}},\"muted_glyph\":{\"type\":\"object\",\"name\":\"Line\",\"id\":\"p1216\",\"attributes\":{\"x\":{\"type\":\"field\",\"field\":\"x\"},\"y\":{\"type\":\"field\",\"field\":\"y\"},\"line_color\":\"blue\",\"line_alpha\":0.2,\"line_width\":2}}}},{\"type\":\"object\",\"name\":\"GlyphRenderer\",\"id\":\"p1227\",\"attributes\":{\"data_source\":{\"id\":\"p1150\"},\"view\":{\"type\":\"object\",\"name\":\"CDSView\",\"id\":\"p1228\",\"attributes\":{\"filter\":{\"type\":\"object\",\"name\":\"AllIndices\",\"id\":\"p1229\"}}},\"glyph\":{\"type\":\"object\",\"name\":\"Line\",\"id\":\"p1224\",\"attributes\":{\"x\":{\"type\":\"field\",\"field\":\"x\"},\"y\":{\"type\":\"field\",\"field\":\"y\"},\"line_color\":\"red\",\"line_alpha\":0.5,\"line_width\":2}},\"nonselection_glyph\":{\"type\":\"object\",\"name\":\"Line\",\"id\":\"p1225\",\"attributes\":{\"x\":{\"type\":\"field\",\"field\":\"x\"},\"y\":{\"type\":\"field\",\"field\":\"y\"},\"line_color\":\"red\",\"line_alpha\":0.1,\"line_width\":2}},\"muted_glyph\":{\"type\":\"object\",\"name\":\"Line\",\"id\":\"p1226\",\"attributes\":{\"x\":{\"type\":\"field\",\"field\":\"x\"},\"y\":{\"type\":\"field\",\"field\":\"y\"},\"line_color\":\"red\",\"line_alpha\":0.2,\"line_width\":2}}}}],\"toolbar\":{\"type\":\"object\",\"name\":\"Toolbar\",\"id\":\"p1168\",\"attributes\":{\"tools\":[{\"type\":\"object\",\"name\":\"PanTool\",\"id\":\"p1183\"},{\"type\":\"object\",\"name\":\"WheelZoomTool\",\"id\":\"p1184\",\"attributes\":{\"renderers\":\"auto\"}},{\"type\":\"object\",\"name\":\"BoxZoomTool\",\"id\":\"p1185\",\"attributes\":{\"overlay\":{\"type\":\"object\",\"name\":\"BoxAnnotation\",\"id\":\"p1186\",\"attributes\":{\"syncable\":false,\"level\":\"overlay\",\"visible\":false,\"left_units\":\"canvas\",\"right_units\":\"canvas\",\"top_units\":\"canvas\",\"bottom_units\":\"canvas\",\"line_color\":\"black\",\"line_alpha\":1.0,\"line_width\":2,\"line_dash\":[4,4],\"fill_color\":\"lightgrey\",\"fill_alpha\":0.5}}}},{\"type\":\"object\",\"name\":\"SaveTool\",\"id\":\"p1187\"},{\"type\":\"object\",\"name\":\"ResetTool\",\"id\":\"p1188\"},{\"type\":\"object\",\"name\":\"HelpTool\",\"id\":\"p1189\"}]}},\"left\":[{\"type\":\"object\",\"name\":\"LinearAxis\",\"id\":\"p1178\",\"attributes\":{\"ticker\":{\"type\":\"object\",\"name\":\"BasicTicker\",\"id\":\"p1179\",\"attributes\":{\"mantissas\":[1,2,5]}},\"formatter\":{\"type\":\"object\",\"name\":\"BasicTickFormatter\",\"id\":\"p1180\"},\"axis_label\":\"y\",\"axis_label_standoff\":10,\"axis_label_text_color\":\"#E0E0E0\",\"axis_label_text_font\":\"Helvetica\",\"axis_label_text_font_size\":\"1.25em\",\"axis_label_text_font_style\":\"normal\",\"major_label_policy\":{\"type\":\"object\",\"name\":\"AllLabels\",\"id\":\"p1181\"},\"major_label_text_color\":\"#E0E0E0\",\"major_label_text_font\":\"Helvetica\",\"major_label_text_font_size\":\"1.025em\",\"axis_line_color\":\"#E0E0E0\",\"axis_line_alpha\":0,\"major_tick_line_color\":\"#E0E0E0\",\"major_tick_line_alpha\":0,\"minor_tick_line_color\":\"#E0E0E0\",\"minor_tick_line_alpha\":0}}],\"below\":[{\"type\":\"object\",\"name\":\"LinearAxis\",\"id\":\"p1173\",\"attributes\":{\"ticker\":{\"type\":\"object\",\"name\":\"BasicTicker\",\"id\":\"p1174\",\"attributes\":{\"mantissas\":[1,2,5]}},\"formatter\":{\"type\":\"object\",\"name\":\"BasicTickFormatter\",\"id\":\"p1175\"},\"axis_label\":\"x\",\"axis_label_standoff\":10,\"axis_label_text_color\":\"#E0E0E0\",\"axis_label_text_font\":\"Helvetica\",\"axis_label_text_font_size\":\"1.25em\",\"axis_label_text_font_style\":\"normal\",\"major_label_policy\":{\"type\":\"object\",\"name\":\"AllLabels\",\"id\":\"p1176\"},\"major_label_text_color\":\"#E0E0E0\",\"major_label_text_font\":\"Helvetica\",\"major_label_text_font_size\":\"1.025em\",\"axis_line_color\":\"#E0E0E0\",\"axis_line_alpha\":0,\"major_tick_line_color\":\"#E0E0E0\",\"major_tick_line_alpha\":0,\"minor_tick_line_color\":\"#E0E0E0\",\"minor_tick_line_alpha\":0}}],\"center\":[{\"type\":\"object\",\"name\":\"Grid\",\"id\":\"p1177\",\"attributes\":{\"axis\":{\"id\":\"p1173\"},\"grid_line_color\":\"#E0E0E0\",\"grid_line_alpha\":0.25}},{\"type\":\"object\",\"name\":\"Grid\",\"id\":\"p1182\",\"attributes\":{\"dimension\":1,\"axis\":{\"id\":\"p1178\"},\"grid_line_color\":\"#E0E0E0\",\"grid_line_alpha\":0.25}},{\"type\":\"object\",\"name\":\"Legend\",\"id\":\"p1199\",\"attributes\":{\"border_line_alpha\":0,\"background_fill_color\":\"#20262B\",\"background_fill_alpha\":0.25,\"label_text_color\":\"#E0E0E0\",\"label_text_font\":\"Helvetica\",\"label_text_font_size\":\"1.025em\",\"label_standoff\":8,\"glyph_width\":15,\"spacing\":8,\"items\":[{\"type\":\"object\",\"name\":\"LegendItem\",\"id\":\"p1200\",\"attributes\":{\"label\":{\"type\":\"value\",\"value\":\"eigenvector v1\"},\"renderers\":[{\"id\":\"p1196\"}]}},{\"type\":\"object\",\"name\":\"LegendItem\",\"id\":\"p1210\",\"attributes\":{\"label\":{\"type\":\"value\",\"value\":\"eigenvector v2\"},\"renderers\":[{\"id\":\"p1207\"}]}},{\"type\":\"object\",\"name\":\"LegendItem\",\"id\":\"p1220\",\"attributes\":{\"label\":{\"type\":\"value\",\"value\":\"aproach v1\"},\"renderers\":[{\"id\":\"p1217\"}]}},{\"type\":\"object\",\"name\":\"LegendItem\",\"id\":\"p1230\",\"attributes\":{\"label\":{\"type\":\"value\",\"value\":\"normed aproach v2\"},\"renderers\":[{\"id\":\"p1227\"}]}}]}}],\"background_fill_color\":\"#20262B\",\"border_fill_color\":\"#15191C\"}},{\"type\":\"object\",\"name\":\"Figure\",\"id\":\"p1231\",\"attributes\":{\"width\":700,\"height\":300,\"x_range\":{\"type\":\"object\",\"name\":\"Range1d\",\"id\":\"p1241\",\"attributes\":{\"end\":15}},\"y_range\":{\"type\":\"object\",\"name\":\"Range1d\",\"id\":\"p1242\",\"attributes\":{\"start\":-1.0}},\"x_scale\":{\"type\":\"object\",\"name\":\"LinearScale\",\"id\":\"p1243\"},\"y_scale\":{\"type\":\"object\",\"name\":\"LinearScale\",\"id\":\"p1244\"},\"title\":{\"type\":\"object\",\"name\":\"Title\",\"id\":\"p1234\",\"attributes\":{\"text\":\"Eigenvalue Error\",\"text_color\":\"#E0E0E0\",\"text_font\":\"Helvetica\",\"text_font_size\":\"1.15em\"}},\"outline_line_color\":\"#E0E0E0\",\"outline_line_alpha\":0.25,\"renderers\":[{\"type\":\"object\",\"name\":\"GlyphRenderer\",\"id\":\"p1268\",\"attributes\":{\"data_source\":{\"id\":\"p1153\"},\"view\":{\"type\":\"object\",\"name\":\"CDSView\",\"id\":\"p1269\",\"attributes\":{\"filter\":{\"type\":\"object\",\"name\":\"AllIndices\",\"id\":\"p1270\"}}},\"glyph\":{\"type\":\"object\",\"name\":\"Line\",\"id\":\"p1265\",\"attributes\":{\"x\":{\"type\":\"field\",\"field\":\"x\"},\"y\":{\"type\":\"field\",\"field\":\"y\"},\"line_color\":\"blue\",\"line_alpha\":0.8,\"line_width\":3}},\"nonselection_glyph\":{\"type\":\"object\",\"name\":\"Line\",\"id\":\"p1266\",\"attributes\":{\"x\":{\"type\":\"field\",\"field\":\"x\"},\"y\":{\"type\":\"field\",\"field\":\"y\"},\"line_color\":\"blue\",\"line_alpha\":0.1,\"line_width\":3}},\"muted_glyph\":{\"type\":\"object\",\"name\":\"Line\",\"id\":\"p1267\",\"attributes\":{\"x\":{\"type\":\"field\",\"field\":\"x\"},\"y\":{\"type\":\"field\",\"field\":\"y\"},\"line_color\":\"blue\",\"line_alpha\":0.2,\"line_width\":3}}}},{\"type\":\"object\",\"name\":\"GlyphRenderer\",\"id\":\"p1279\",\"attributes\":{\"data_source\":{\"id\":\"p1156\"},\"view\":{\"type\":\"object\",\"name\":\"CDSView\",\"id\":\"p1280\",\"attributes\":{\"filter\":{\"type\":\"object\",\"name\":\"AllIndices\",\"id\":\"p1281\"}}},\"glyph\":{\"type\":\"object\",\"name\":\"Line\",\"id\":\"p1276\",\"attributes\":{\"x\":{\"type\":\"field\",\"field\":\"x\"},\"y\":{\"type\":\"field\",\"field\":\"y\"},\"line_color\":\"red\",\"line_width\":2}},\"nonselection_glyph\":{\"type\":\"object\",\"name\":\"Line\",\"id\":\"p1277\",\"attributes\":{\"x\":{\"type\":\"field\",\"field\":\"x\"},\"y\":{\"type\":\"field\",\"field\":\"y\"},\"line_color\":\"red\",\"line_alpha\":0.1,\"line_width\":2}},\"muted_glyph\":{\"type\":\"object\",\"name\":\"Line\",\"id\":\"p1278\",\"attributes\":{\"x\":{\"type\":\"field\",\"field\":\"x\"},\"y\":{\"type\":\"field\",\"field\":\"y\"},\"line_color\":\"red\",\"line_alpha\":0.2,\"line_width\":2}}}}],\"toolbar\":{\"type\":\"object\",\"name\":\"Toolbar\",\"id\":\"p1240\",\"attributes\":{\"tools\":[{\"type\":\"object\",\"name\":\"PanTool\",\"id\":\"p1255\"},{\"type\":\"object\",\"name\":\"WheelZoomTool\",\"id\":\"p1256\",\"attributes\":{\"renderers\":\"auto\"}},{\"type\":\"object\",\"name\":\"BoxZoomTool\",\"id\":\"p1257\",\"attributes\":{\"overlay\":{\"type\":\"object\",\"name\":\"BoxAnnotation\",\"id\":\"p1258\",\"attributes\":{\"syncable\":false,\"level\":\"overlay\",\"visible\":false,\"left_units\":\"canvas\",\"right_units\":\"canvas\",\"top_units\":\"canvas\",\"bottom_units\":\"canvas\",\"line_color\":\"black\",\"line_alpha\":1.0,\"line_width\":2,\"line_dash\":[4,4],\"fill_color\":\"lightgrey\",\"fill_alpha\":0.5}}}},{\"type\":\"object\",\"name\":\"SaveTool\",\"id\":\"p1259\"},{\"type\":\"object\",\"name\":\"ResetTool\",\"id\":\"p1260\"},{\"type\":\"object\",\"name\":\"HelpTool\",\"id\":\"p1261\"}]}},\"left\":[{\"type\":\"object\",\"name\":\"LinearAxis\",\"id\":\"p1250\",\"attributes\":{\"ticker\":{\"type\":\"object\",\"name\":\"BasicTicker\",\"id\":\"p1251\",\"attributes\":{\"mantissas\":[1,2,5]}},\"formatter\":{\"type\":\"object\",\"name\":\"BasicTickFormatter\",\"id\":\"p1252\"},\"axis_label\":\"\\u2206\\u03bb\",\"axis_label_standoff\":10,\"axis_label_text_color\":\"#E0E0E0\",\"axis_label_text_font\":\"Helvetica\",\"axis_label_text_font_size\":\"1.25em\",\"axis_label_text_font_style\":\"normal\",\"major_label_policy\":{\"type\":\"object\",\"name\":\"AllLabels\",\"id\":\"p1253\"},\"major_label_text_color\":\"#E0E0E0\",\"major_label_text_font\":\"Helvetica\",\"major_label_text_font_size\":\"1.025em\",\"axis_line_color\":\"#E0E0E0\",\"axis_line_alpha\":0,\"major_tick_line_color\":\"#E0E0E0\",\"major_tick_line_alpha\":0,\"minor_tick_line_color\":\"#E0E0E0\",\"minor_tick_line_alpha\":0}}],\"below\":[{\"type\":\"object\",\"name\":\"LinearAxis\",\"id\":\"p1245\",\"attributes\":{\"ticker\":{\"type\":\"object\",\"name\":\"BasicTicker\",\"id\":\"p1246\",\"attributes\":{\"mantissas\":[1,2,5]}},\"formatter\":{\"type\":\"object\",\"name\":\"BasicTickFormatter\",\"id\":\"p1247\"},\"axis_label\":\"iteration\",\"axis_label_standoff\":10,\"axis_label_text_color\":\"#E0E0E0\",\"axis_label_text_font\":\"Helvetica\",\"axis_label_text_font_size\":\"1.25em\",\"axis_label_text_font_style\":\"normal\",\"major_label_policy\":{\"type\":\"object\",\"name\":\"AllLabels\",\"id\":\"p1248\"},\"major_label_text_color\":\"#E0E0E0\",\"major_label_text_font\":\"Helvetica\",\"major_label_text_font_size\":\"1.025em\",\"axis_line_color\":\"#E0E0E0\",\"axis_line_alpha\":0,\"major_tick_line_color\":\"#E0E0E0\",\"major_tick_line_alpha\":0,\"minor_tick_line_color\":\"#E0E0E0\",\"minor_tick_line_alpha\":0}}],\"center\":[{\"type\":\"object\",\"name\":\"Grid\",\"id\":\"p1249\",\"attributes\":{\"axis\":{\"id\":\"p1245\"},\"grid_line_color\":\"#E0E0E0\",\"grid_line_alpha\":0.25}},{\"type\":\"object\",\"name\":\"Grid\",\"id\":\"p1254\",\"attributes\":{\"dimension\":1,\"axis\":{\"id\":\"p1250\"},\"grid_line_color\":\"#E0E0E0\",\"grid_line_alpha\":0.25}},{\"type\":\"object\",\"name\":\"Legend\",\"id\":\"p1271\",\"attributes\":{\"border_line_alpha\":0,\"background_fill_color\":\"#20262B\",\"background_fill_alpha\":0.25,\"label_text_color\":\"#E0E0E0\",\"label_text_font\":\"Helvetica\",\"label_text_font_size\":\"1.025em\",\"label_standoff\":8,\"glyph_width\":15,\"spacing\":8,\"items\":[{\"type\":\"object\",\"name\":\"LegendItem\",\"id\":\"p1272\",\"attributes\":{\"label\":{\"type\":\"value\",\"value\":\"\\u2206\\u03bb\"},\"renderers\":[{\"id\":\"p1268\"}]}},{\"type\":\"object\",\"name\":\"LegendItem\",\"id\":\"p1282\",\"attributes\":{\"label\":{\"type\":\"value\",\"value\":\"\\u2206\\u03bb normed\"},\"renderers\":[{\"id\":\"p1279\"}]}}]}}],\"background_fill_color\":\"#20262B\",\"border_fill_color\":\"#15191C\"}}]}}]}}]}};\n  const render_items = [{\"docid\":\"6e4e6dd2-64ec-41aa-b7b6-50581946bd92\",\"roots\":{\"p1286\":\"eb6af5fc-b446-4aa3-a319-15d82c3aaca8\"},\"root_ids\":[\"p1286\"]}];\n  root.Bokeh.embed.embed_items_notebook(docs_json, render_items);\n  }\n  if (root.Bokeh !== undefined) {\n    embed_document(root);\n  } else {\n    let attempts = 0;\n    const timer = setInterval(function(root) {\n      if (root.Bokeh !== undefined) {\n        clearInterval(timer);\n        embed_document(root);\n      } else {\n        attempts++;\n        if (attempts > 100) {\n          clearInterval(timer);\n          console.log(\"Bokeh: ERROR: Unable to run BokehJS code because BokehJS library is missing\");\n        }\n      }\n    }, 10, root)\n  }\n})(window);",
            "application/vnd.bokehjs_exec.v0+json": ""
          },
          "metadata": {
            "application/vnd.bokehjs_exec.v0+json": {
              "id": "p1286"
            }
          },
          "output_type": "display_data"
        }
      ],
      "source": [
        "matrix = np.array([[0, 0], [0, 0]])\n",
        "start_vector = np.array([-10, -100])\n",
        "num_steps = 15\n",
        "\n",
        "visualize_power_method(matrix, start_vector, num_steps)"
      ]
    },
    {
      "cell_type": "code",
      "execution_count": null,
      "metadata": {
        "id": "ymWOAa2ocMbH"
      },
      "outputs": [],
      "source": []
    }
  ],
  "metadata": {
    "colab": {
      "authorship_tag": "ABX9TyPkbneGmzWl95GJ5GVqAsdE",
      "include_colab_link": true,
      "provenance": []
    },
    "kernelspec": {
      "display_name": "projectname",
      "language": "python",
      "name": "projectname"
    },
    "language_info": {
      "codemirror_mode": {
        "name": "ipython",
        "version": 3
      },
      "file_extension": ".py",
      "mimetype": "text/x-python",
      "name": "python",
      "nbconvert_exporter": "python",
      "pygments_lexer": "ipython3",
      "version": "3.11.5"
    }
  },
  "nbformat": 4,
  "nbformat_minor": 0
}
